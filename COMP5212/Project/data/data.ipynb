{
 "cells": [
  {
   "cell_type": "code",
   "execution_count": 4,
   "metadata": {},
   "outputs": [],
   "source": [
    "import pandas as pd\n",
    "import matplotlib.pyplot as plt\n",
    "import seaborn as sns\n",
    "\n",
    "train_file = 'train.csv'\n",
    "validation_file = 'validation.csv'"
   ]
  },
  {
   "cell_type": "code",
   "execution_count": 8,
   "metadata": {},
   "outputs": [],
   "source": [
    "# 加载数据\n",
    "train_data = pd.read_csv(train_file)"
   ]
  },
  {
   "cell_type": "code",
   "execution_count": null,
   "metadata": {},
   "outputs": [],
   "source": [
    "# 特征列表\n",
    "features = ['Feature1', 'Feature2', 'Feature3', 'Feature4', 'Feature5', 'Feature6', 'Feature7']\n",
    "features = [col for col in train_data.columns if col != 'Label']\n",
    "\n",
    "# 对每个特征进行分析\n",
    "for feature in features:\n",
    "    print(f\"\\n{feature}的描述性统计数据：\")\n",
    "    print(train_data[feature].describe())\n",
    "    \n",
    "    # 绘制分布图\n",
    "    plt.figure(figsize=(10, 4))\n",
    "    sns.histplot(train_data[feature], kde=True)\n",
    "    plt.title(f\"{feature} distribution\")\n",
    "    plt.show()\n",
    "    \n",
    "    # 绘制特征与标签之间的关系图\n",
    "    plt.figure(figsize=(10, 4))\n",
    "    sns.scatterplot(x=train_data[feature], y=train_data['Label'])\n",
    "    plt.title(f\"{feature} and Label relationship\")\n",
    "    plt.show()\n",
    "    \n",
    "    # 绘制特征与标签之间的箱线图\n",
    "    plt.figure(figsize=(10, 4))\n",
    "    sns.boxplot(x=train_data['Label'], y=train_data[feature])\n",
    "    plt.title(f\"{feature} and Label boxplot\")\n",
    "    plt.show()"
   ]
  }
 ],
 "metadata": {
  "kernelspec": {
   "display_name": "comp5212",
   "language": "python",
   "name": "python3"
  },
  "language_info": {
   "codemirror_mode": {
    "name": "ipython",
    "version": 3
   },
   "file_extension": ".py",
   "mimetype": "text/x-python",
   "name": "python",
   "nbconvert_exporter": "python",
   "pygments_lexer": "ipython3",
   "version": "3.11.8"
  }
 },
 "nbformat": 4,
 "nbformat_minor": 2
}
