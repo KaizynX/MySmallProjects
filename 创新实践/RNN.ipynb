{
 "cells": [
  {
   "cell_type": "markdown",
   "metadata": {},
   "source": [
    "# 任务3：LSTM网络实现RNN写作生成\n",
    "\n",
    "**任务要求：利用LSTM网络实现RNN的莎士比亚风格文本写作生成。**  \n",
    "**数据: shakespeare.txt**"
   ]
  },
  {
   "cell_type": "code",
   "execution_count": 2,
   "metadata": {},
   "outputs": [],
   "source": [
    "import torch\n",
    "import torch.nn as nn\n",
    "from torch.autograd import Variable\n",
    "import unidecode\n",
    "import string\n",
    "import random\n",
    "import time\n",
    "import matplotlib.pyplot as plt\n",
    "%matplotlib inline"
   ]
  },
  {
   "cell_type": "code",
   "execution_count": 3,
   "metadata": {},
   "outputs": [
    {
     "name": "stdout",
     "output_type": "stream",
     "text": [
      "Use GPU: False\n"
     ]
    }
   ],
   "source": [
    "use_gpu = True if torch.cuda.is_available() else False\n",
    "print('Use GPU:', use_gpu)"
   ]
  },
  {
   "cell_type": "markdown",
   "metadata": {},
   "source": [
    "## 1. 加载文本数据\n",
    "\n",
    "加载训练文本数据及字符集"
   ]
  },
  {
   "cell_type": "code",
   "execution_count": 5,
   "metadata": {},
   "outputs": [
    {
     "name": "stdout",
     "output_type": "stream",
     "text": [
      "characters num: 100\n",
      "0123456789abcdefghijklmnopqrstuvwxyzABCDEFGHIJKLMNOPQRSTUVWXYZ!\"#$%&'()*+,-./:;<=>?@[\\]^_`{|}~ \t\n",
      "\r",
      "\u000b",
      "\f",
      "\n",
      "file length: 1115394\n"
     ]
    }
   ],
   "source": [
    "all_characters = string.printable\n",
    "n_characters = len(all_characters)\n",
    "print('characters num:', n_characters)\n",
    "print(all_characters)\n",
    "\n",
    "file = unidecode.unidecode(open('./data/shakespeare.txt').read())\n",
    "file_len = len(file)\n",
    "print('file length:', file_len)"
   ]
  },
  {
   "cell_type": "markdown",
   "metadata": {},
   "source": [
    "### 随机文本块"
   ]
  },
  {
   "cell_type": "code",
   "execution_count": 6,
   "metadata": {},
   "outputs": [
    {
     "name": "stdout",
     "output_type": "stream",
     "text": [
      ";\n",
      "go on the right hand: I will but look upon the\n",
      "hedge and follow you.\n",
      "\n",
      "Clown:\n",
      "We are blest in this man, as I may say, even blest.\n",
      "\n",
      "Shepherd:\n",
      "Let's before as he bids us: he was provided to do us good.\n",
      "\n",
      "AUTOLYCUS:\n",
      "If I had a mind to be honest, I see Fortune would\n",
      "not suffer me: she drops booties in my mouth. I am\n",
      "courted now with a double occasion, gold and a means\n",
      "to do the prince my master good; which who knows how\n",
      "that may turn back to my advancement? I will bring\n",
      "these two moles, these blind o\n"
     ]
    }
   ],
   "source": [
    "chunk_len = 500\n",
    "\n",
    "def random_chunk():\n",
    "    start_index = random.randint(0, file_len - chunk_len)\n",
    "    end_index = start_index + chunk_len + 1\n",
    "    return file[start_index: end_index]\n",
    "\n",
    "print(random_chunk())"
   ]
  },
  {
   "cell_type": "markdown",
   "metadata": {},
   "source": [
    "### 随机数据-标签对"
   ]
  },
  {
   "cell_type": "code",
   "execution_count": 7,
   "metadata": {},
   "outputs": [
    {
     "name": "stdout",
     "output_type": "stream",
     "text": [
      "tensor([69, 10, 11, 12, 13, 14, 15, 73, 36, 37, 38, 39, 40, 41, 70, 75])\n"
     ]
    }
   ],
   "source": [
    "def char_tensor(string):\n",
    "    n = len(string)\n",
    "    t = torch.zeros(n).long()\n",
    "    for i in range(n):\n",
    "        t[i] = all_characters.index(string[i])\n",
    "    return Variable(t)\n",
    "\n",
    "print(char_tensor('(abcdef,ABCDEF).'))"
   ]
  },
  {
   "cell_type": "code",
   "execution_count": 8,
   "metadata": {},
   "outputs": [
    {
     "data": {
      "text/plain": [
       "(tensor([94, 17, 18, 28, 94, 18, 28, 21, 10, 23, 13, 94, 16, 18, 27, 29, 94, 18,\n",
       "         23, 94, 32, 18, 29, 17, 94, 29, 17, 14, 94, 24, 12, 14, 10, 23, 73, 96,\n",
       "         50, 27, 94, 22, 24, 13, 14, 28, 29, 94, 39, 18, 10, 23, 94, 12, 18, 27,\n",
       "         12, 21, 14, 13, 94, 32, 18, 29, 17, 94, 17, 14, 27, 94, 23, 34, 22, 25,\n",
       "         17, 28, 73, 96, 54, 17, 10, 21, 21, 94, 27, 14, 28, 29, 94, 18, 23, 94,\n",
       "         47, 24, 23, 13, 24, 23, 94, 29, 18, 21, 21, 94, 32, 14, 94, 12, 24, 22,\n",
       "         14, 94, 29, 24, 94, 17, 18, 22, 75, 96, 41, 10, 18, 27, 94, 21, 24, 27,\n",
       "         13, 28, 73, 94, 29, 10, 20, 14, 94, 21, 14, 10, 31, 14, 94, 10, 23, 13,\n",
       "         94, 28, 29, 10, 23, 13, 94, 23, 24, 29, 94, 29, 24, 94, 27, 14, 25, 21,\n",
       "         34, 75, 96, 41, 10, 27, 14, 32, 14, 21, 21, 73, 94, 22, 34, 94, 28, 24,\n",
       "         31, 14, 27, 14, 18, 16, 23, 75, 96, 96, 46, 44, 49, 42, 94, 43, 40, 49,\n",
       "         53, 60, 94, 57, 44, 77, 96, 41, 10, 27, 14, 32, 14, 21, 21, 73, 94, 22,\n",
       "         34, 94, 43, 14, 12, 29, 24, 27, 73, 94, 10, 23, 13, 94, 22, 34, 94, 55,\n",
       "         27, 24, 34, 68, 28, 94, 29, 27, 30, 14, 94, 17, 24, 25, 14, 75, 96, 96,\n",
       "         38, 47, 36, 53, 40, 49, 38, 40, 77, 96, 44, 23, 94, 28, 18, 16, 23, 94,\n",
       "         24, 15, 94, 29, 27, 30, 29, 17, 73, 94, 44, 94, 20, 18, 28, 28, 94, 34,\n",
       "         24, 30, 27, 94, 17, 18, 16, 17, 23, 14, 28, 28, 68, 94, 17, 10, 23, 13,\n",
       "         75, 96, 96, 46, 44, 49, 42, 94, 43, 40, 49, 53, 60, 94, 57, 44, 77, 96,\n",
       "         58, 14, 21, 21, 74, 22, 18, 23, 13, 14, 13, 94, 38, 21, 10, 27, 14, 23,\n",
       "         12, 14, 73, 94, 11, 14, 94, 29, 17, 24, 30, 94, 15, 24, 27, 29, 30, 23,\n",
       "         10, 29, 14, 62, 96, 96, 48, 50, 49, 55, 36, 42, 56, 40, 77, 96, 38, 24,\n",
       "         22, 15, 24, 27, 29, 73, 94, 22, 34, 94, 21, 24, 27, 13, 78, 94, 10, 23,\n",
       "         13, 94, 28, 24, 94, 44, 94, 29, 10, 20, 14, 94, 22, 34, 94, 21, 14, 10,\n",
       "         31, 14, 75, 96, 96, 50, 59, 41, 50, 53, 39, 77, 96, 36, 23, 13, 94, 29,\n",
       "         17, 30, 28, 94, 44, 94, 28, 14, 10, 21, 94, 22, 34, 94, 29, 27, 30, 29,\n",
       "         17, 73, 94, 10, 23, 13, 94, 11, 18, 13, 94, 10, 13, 18, 14, 30, 75, 96,\n",
       "         96, 46, 44, 49, 42, 94, 43, 40, 49, 53, 60, 94, 57, 44, 77, 96, 54, 32,\n",
       "         14, 14, 29, 94, 50, 33, 15, 24, 27, 13, 73, 94, 10, 23]),\n",
       " tensor([17, 18, 28, 94, 18, 28, 21, 10, 23, 13, 94, 16, 18, 27, 29, 94, 18, 23,\n",
       "         94, 32, 18, 29, 17, 94, 29, 17, 14, 94, 24, 12, 14, 10, 23, 73, 96, 50,\n",
       "         27, 94, 22, 24, 13, 14, 28, 29, 94, 39, 18, 10, 23, 94, 12, 18, 27, 12,\n",
       "         21, 14, 13, 94, 32, 18, 29, 17, 94, 17, 14, 27, 94, 23, 34, 22, 25, 17,\n",
       "         28, 73, 96, 54, 17, 10, 21, 21, 94, 27, 14, 28, 29, 94, 18, 23, 94, 47,\n",
       "         24, 23, 13, 24, 23, 94, 29, 18, 21, 21, 94, 32, 14, 94, 12, 24, 22, 14,\n",
       "         94, 29, 24, 94, 17, 18, 22, 75, 96, 41, 10, 18, 27, 94, 21, 24, 27, 13,\n",
       "         28, 73, 94, 29, 10, 20, 14, 94, 21, 14, 10, 31, 14, 94, 10, 23, 13, 94,\n",
       "         28, 29, 10, 23, 13, 94, 23, 24, 29, 94, 29, 24, 94, 27, 14, 25, 21, 34,\n",
       "         75, 96, 41, 10, 27, 14, 32, 14, 21, 21, 73, 94, 22, 34, 94, 28, 24, 31,\n",
       "         14, 27, 14, 18, 16, 23, 75, 96, 96, 46, 44, 49, 42, 94, 43, 40, 49, 53,\n",
       "         60, 94, 57, 44, 77, 96, 41, 10, 27, 14, 32, 14, 21, 21, 73, 94, 22, 34,\n",
       "         94, 43, 14, 12, 29, 24, 27, 73, 94, 10, 23, 13, 94, 22, 34, 94, 55, 27,\n",
       "         24, 34, 68, 28, 94, 29, 27, 30, 14, 94, 17, 24, 25, 14, 75, 96, 96, 38,\n",
       "         47, 36, 53, 40, 49, 38, 40, 77, 96, 44, 23, 94, 28, 18, 16, 23, 94, 24,\n",
       "         15, 94, 29, 27, 30, 29, 17, 73, 94, 44, 94, 20, 18, 28, 28, 94, 34, 24,\n",
       "         30, 27, 94, 17, 18, 16, 17, 23, 14, 28, 28, 68, 94, 17, 10, 23, 13, 75,\n",
       "         96, 96, 46, 44, 49, 42, 94, 43, 40, 49, 53, 60, 94, 57, 44, 77, 96, 58,\n",
       "         14, 21, 21, 74, 22, 18, 23, 13, 14, 13, 94, 38, 21, 10, 27, 14, 23, 12,\n",
       "         14, 73, 94, 11, 14, 94, 29, 17, 24, 30, 94, 15, 24, 27, 29, 30, 23, 10,\n",
       "         29, 14, 62, 96, 96, 48, 50, 49, 55, 36, 42, 56, 40, 77, 96, 38, 24, 22,\n",
       "         15, 24, 27, 29, 73, 94, 22, 34, 94, 21, 24, 27, 13, 78, 94, 10, 23, 13,\n",
       "         94, 28, 24, 94, 44, 94, 29, 10, 20, 14, 94, 22, 34, 94, 21, 14, 10, 31,\n",
       "         14, 75, 96, 96, 50, 59, 41, 50, 53, 39, 77, 96, 36, 23, 13, 94, 29, 17,\n",
       "         30, 28, 94, 44, 94, 28, 14, 10, 21, 94, 22, 34, 94, 29, 27, 30, 29, 17,\n",
       "         73, 94, 10, 23, 13, 94, 11, 18, 13, 94, 10, 13, 18, 14, 30, 75, 96, 96,\n",
       "         46, 44, 49, 42, 94, 43, 40, 49, 53, 60, 94, 57, 44, 77, 96, 54, 32, 14,\n",
       "         14, 29, 94, 50, 33, 15, 24, 27, 13, 73, 94, 10, 23, 13]))"
      ]
     },
     "execution_count": 8,
     "metadata": {},
     "output_type": "execute_result"
    }
   ],
   "source": [
    "def random_training_set():\n",
    "    chunk = random_chunk()\n",
    "    inputs = char_tensor(chunk[:-1])\n",
    "    targets = char_tensor(chunk[1:])\n",
    "    return inputs, targets\n",
    "\n",
    "random_training_set()"
   ]
  },
  {
   "cell_type": "markdown",
   "metadata": {},
   "source": [
    "## 2. RNN模型\n",
    "\n",
    "利用PyTorch构建RNN模型类，内部包括Embedding层、LSTM、FC层"
   ]
  },
  {
   "cell_type": "code",
   "execution_count": 9,
   "metadata": {},
   "outputs": [],
   "source": [
    "''' 请在下方编写RNN模型类 '''\n",
    "class RNN(nn.Module):\n",
    "    def __init__(self, input_size, hidden_size, output_size, num_layers=1):\n",
    "        super(RNN, self).__init__()\n",
    "        self.input_size = input_size\n",
    "        self.hidden_size = hidden_size\n",
    "        self.output_size = output_size\n",
    "        self.num_layers = num_layers\n",
    "        \n",
    "        self.encoder = nn.Embedding(input_size, hidden_size)\n",
    "        self.lstm = nn.LSTM(hidden_size, hidden_size, num_layers)\n",
    "        self.decoder = nn.Linear(hidden_size, output_size)\n",
    "        \n",
    "    def forward(self, inputs, hidden):\n",
    "        inputs = self.encoder(inputs.view(1, -1))\n",
    "        outputs, hidden = self.lstm(inputs.view(1, 1, -1), hidden)\n",
    "        outputs = self.decoder(outputs.view(1, -1))\n",
    "        return outputs, hidden\n",
    "    \n",
    "    def init_hidden(self):\n",
    "        h0 = Variable(torch.zeros(self.num_layers, 1, self.hidden_size))\n",
    "        c0 = Variable(torch.zeros(self.num_layers, 1, self.hidden_size))\n",
    "        return h0, c0"
   ]
  },
  {
   "cell_type": "markdown",
   "metadata": {},
   "source": [
    "## 3. 训练函数"
   ]
  },
  {
   "cell_type": "code",
   "execution_count": 10,
   "metadata": {},
   "outputs": [],
   "source": [
    "def train(inputs, target):\n",
    "    h, c = rnn.init_hidden()\n",
    "    if use_gpu:\n",
    "        inputs = inputs.cuda()\n",
    "        target = target.cuda()\n",
    "        h, c = h.cuda(), c.cuda()\n",
    "    hidden = h, c\n",
    "    \n",
    "    loss = 0\n",
    "    for i in range(len(inputs)):\n",
    "        ''' 请在下方编写rnn模型输出，及loss累加代码'''\n",
    "        outputs, hidden = rnn(inputs[i], hidden)\n",
    "        loss += criterion(outputs, target[i].view([1]))\n",
    "    \n",
    "    \n",
    "    optimizer.zero_grad()\n",
    "    loss.backward()\n",
    "    optimizer.step()\n",
    "    \n",
    "    return loss.data.item()/len(inputs)"
   ]
  },
  {
   "cell_type": "markdown",
   "metadata": {},
   "source": [
    "## 4. 文本生成测试函数"
   ]
  },
  {
   "cell_type": "code",
   "execution_count": 11,
   "metadata": {},
   "outputs": [],
   "source": [
    "def test(prime_str='A', predict_len=100, temperature=0.8):\n",
    "    h, c = rnn.init_hidden()\n",
    "    prime_input = char_tensor(prime_str)\n",
    "    if use_gpu:\n",
    "        h, c = h.cuda(), c.cuda()\n",
    "        prime_input = prime_input.cuda()\n",
    "    predicted = prime_str\n",
    "    \n",
    "    for i in range(len(prime_str)-1):\n",
    "        _, (h, c) = rnn(prime_input[i], (h, c))\n",
    "    inputs = prime_input[-1]\n",
    "\n",
    "    for p in range(predict_len):\n",
    "        if use_gpu:\n",
    "            inputs = inputs.cuda()\n",
    "        output, (h, c) = rnn(inputs, (h, c))\n",
    "        output_dist = output.data.view(-1).div(temperature).exp()\n",
    "        top_i = torch.multinomial(output_dist, 1)[0]\n",
    "\n",
    "        predicted_char = all_characters[top_i]\n",
    "        predicted += predicted_char\n",
    "        inputs = char_tensor(predicted_char)\n",
    "    \n",
    "    return predicted"
   ]
  },
  {
   "cell_type": "markdown",
   "metadata": {},
   "source": [
    "## 5. 模型训练"
   ]
  },
  {
   "cell_type": "markdown",
   "metadata": {},
   "source": [
    "#### 超参数"
   ]
  },
  {
   "cell_type": "code",
   "execution_count": 12,
   "metadata": {},
   "outputs": [],
   "source": [
    "''' 请自行设定相关参数 '''\n",
    "epoch_num = 1000  # 1000~10000\n",
    "print_every = 100\n",
    "plot_every = 10\n",
    "hidden_size = 100\n",
    "num_layers = 1\n",
    "lr = 0.01"
   ]
  },
  {
   "cell_type": "markdown",
   "metadata": {},
   "source": [
    "#### 模型、优化器、损失函数"
   ]
  },
  {
   "cell_type": "code",
   "execution_count": 13,
   "metadata": {},
   "outputs": [
    {
     "name": "stdout",
     "output_type": "stream",
     "text": [
      "RNN(\n",
      "  (encoder): Embedding(100, 100)\n",
      "  (lstm): LSTM(100, 100)\n",
      "  (decoder): Linear(in_features=100, out_features=100, bias=True)\n",
      ")\n"
     ]
    }
   ],
   "source": [
    "# RNN模型\n",
    "rnn = RNN(n_characters, hidden_size, n_characters, num_layers)\n",
    "if use_gpu:\n",
    "    rnn = rnn.cuda()\n",
    "print(rnn)"
   ]
  },
  {
   "cell_type": "code",
   "execution_count": 14,
   "metadata": {},
   "outputs": [
    {
     "name": "stdout",
     "output_type": "stream",
     "text": [
      "Adam (\n",
      "Parameter Group 0\n",
      "    amsgrad: False\n",
      "    betas: (0.9, 0.999)\n",
      "    eps: 1e-08\n",
      "    lr: 0.01\n",
      "    weight_decay: 0\n",
      ")\n",
      "CrossEntropyLoss()\n"
     ]
    }
   ],
   "source": [
    "# 优化器\n",
    "''' 请在下方编写Adam优化器定义的代码 '''\n",
    "optimizer = torch.optim.Adam(rnn.parameters(), lr=lr)\n",
    "print(optimizer)\n",
    "\n",
    "# 损失函数\n",
    "''' 请在下方编写交叉熵损失函数定义的代码 '''\n",
    "criterion = nn.CrossEntropyLoss()\n",
    "print(criterion)"
   ]
  },
  {
   "cell_type": "markdown",
   "metadata": {},
   "source": [
    "#### 模型训练"
   ]
  },
  {
   "cell_type": "code",
   "execution_count": 15,
   "metadata": {},
   "outputs": [
    {
     "name": "stdout",
     "output_type": "stream",
     "text": [
      "[Time: 111s  Epoch: 100 (10%)  Loss: 2.1003]\n",
      "Thating fall thate nam shatr daif smeve\n",
      "or and,\n",
      "Feaded no doued and and mess furise and I four me bake the such of not nensperd rean,' fak'.\n",
      "\n",
      "PEINI Bett bangt hars my me weris the death blet if that, an \n",
      "\n",
      "[Time: 221s  Epoch: 200 (20%)  Loss: 2.0574]\n",
      "Thes with. poor thus sou with not thou thee not will with ast,\n",
      "Thil then our's\n",
      "This cacth wervating thou for this.\n",
      "\n",
      "JUKE RINGBOLIUS:\n",
      "Wiht now thy are unon on this the love this is wourd of coursent the  \n",
      "\n",
      "[Time: 331s  Epoch: 300 (30%)  Loss: 1.9967]\n",
      "Thee we liching's a my that that sut this the man in upon you to man then swell, then nevine and an for us, my a an thun ther taman?\n",
      "\n",
      "CARIRY LAJINGUCARLA:\n",
      "The an and you then Lome, Sear is a goonich the \n",
      "\n",
      "[Time: 441s  Epoch: 400 (40%)  Loss: 1.9017]\n",
      "Thye the conde,\n",
      "And a king, is musty bothare stet and you bood.\n",
      "\n",
      "AUCHEPENTHARDY ARWCLINGRWHIES:\n",
      "O thy ot now, feight hereean.\n",
      "\n",
      "PIRIAAly hear whosre cord Mile,\n",
      "Nouned your doth he moral!\n",
      "\n",
      "FRICHARD VINGSR \n",
      "\n",
      "[Time: 552s  Epoch: 500 (50%)  Loss: 1.8082]\n",
      "Thenr:\n",
      "Beer'd falt let the duve such shere.\n",
      "\n",
      "KINGBRUMEO:\n",
      "And the duke bake, the to mank plest, my hore down, parted:\n",
      "To devoth my bunk Rremander'd:\n",
      "Muts, I cam to my poth, wart deal down,\n",
      "Is surne, the  \n",
      "\n",
      "[Time: 661s  Epoch: 600 (60%)  Loss: 1.9866]\n",
      "The whom his for ain plapore uponest, his not a the gre of more.\n",
      "\n",
      "MIRA:\n",
      "Nut not all your man, premes. He come of conould well will have frome, my where your, shacs for is son.\n",
      "\n",
      "ALUKE:\n",
      "O'd of you thing i \n",
      "\n",
      "[Time: 771s  Epoch: 700 (70%)  Loss: 1.8696]\n",
      "The to before in then, to mess poats\n",
      "Our meing thy shielen:\n",
      "And the shough and it 'I rows to but me were and uping it mot you, you that you canjound firged,\n",
      "For good the the have on them up and blangs t \n",
      "\n",
      "[Time: 888s  Epoch: 800 (80%)  Loss: 1.7185]\n",
      "Thall down the my and are and harge, angow,\n",
      "Some in here and and talkel\n",
      "My carnsies, seed and most and much you him trute;\n",
      "Sucile not lead madiul\n",
      "Mastrights and the to prive herst hast forrangurt him;\n",
      "E \n",
      "\n",
      "[Time: 1002s  Epoch: 900 (90%)  Loss: 1.7955]\n",
      "Thard my trow, that for to more.\n",
      "\n",
      "WARWICK:\n",
      "Your real so broces, the be to come thee.\n",
      "\n",
      "CAMILANUS:\n",
      "Cawh the hear you wast hat this gentent the brain\n",
      "thy sichel carefort of thee trues,\n",
      "Bighter, for the of  \n",
      "\n",
      "[Time: 1112s  Epoch: 1000 (100%)  Loss: 1.7270]\n",
      "Thall father noble out so than,\n",
      "With thy bright in whise what father in I will we seay,\n",
      "And me which all for here shoulds; bead and consurn of are then what but we so call the with our be sir,\n",
      "Agdings h \n",
      "\n"
     ]
    }
   ],
   "source": [
    "time_start = time.time()\n",
    "evaluate = True  # 可设置为False，训练过程中不评估\n",
    "loss_list = []\n",
    "loss_avg = 0\n",
    "\n",
    "for epoch in range(1, epoch_num+1):\n",
    "    inputs, targets = random_training_set()\n",
    "    loss = train(inputs, targets)\n",
    "    loss_avg += loss\n",
    "    \n",
    "    if epoch % print_every == 0:\n",
    "        print('[Time: %ds  Epoch: %d (%d%%)  Loss: %.4f]'%(int(time.time()-time_start), epoch, epoch/epoch_num*100, loss))\n",
    "        if evaluate:\n",
    "            pred_text = test('Th', 200)\n",
    "            print(pred_text, '\\n')\n",
    "        \n",
    "    if epoch % plot_every == 0:\n",
    "        loss_list.append(loss_avg/plot_every)\n",
    "        loss_avg = 0"
   ]
  },
  {
   "cell_type": "markdown",
   "metadata": {},
   "source": [
    "## 6. 训练Loss曲线\n",
    "\n",
    "绘制训练过程中的Loss曲线"
   ]
  },
  {
   "cell_type": "code",
   "execution_count": 16,
   "metadata": {},
   "outputs": [
    {
     "data": {
      "image/png": "[encoded data removed]",
      "text/plain": [
       "<Figure size 864x504 with 1 Axes>"
      ]
     },
     "metadata": {
      "needs_background": "light"
     },
     "output_type": "display_data"
    }
   ],
   "source": [
    "plt.figure(figsize=(12, 7))\n",
    "plt.plot(loss_list)\n",
    "plt.title('Train Loss', fontsize=18)\n",
    "plt.xlabel('Epoch', fontsize=16)\n",
    "plt.ylabel('Loss', fontsize=16)\n",
    "plt.xticks(fontsize=12)\n",
    "plt.yticks(fontsize=12)\n",
    "plt.grid()"
   ]
  },
  {
   "cell_type": "markdown",
   "metadata": {},
   "source": [
    "## 7. 测试\n",
    "\n",
    "自定义初始字符和文本长度以生成文本"
   ]
  },
  {
   "cell_type": "code",
   "execution_count": 17,
   "metadata": {},
   "outputs": [
    {
     "name": "stdout",
     "output_type": "stream",
     "text": [
      "Tham folling Harsents, the crows in take this;\n",
      "No shall to hange is hold upon is him must,\n",
      "Not ear she joyering fight your thems.\n",
      "\n",
      "CATIOND:\n",
      "His shy being lare where it him shour forth\n",
      "But Nurge now be the' thy abours.\n",
      "\n",
      "SLY OF YORIZABELLA:\n",
      "First therise to must sich my fair a prack\n",
      "Is shall brauds now, whil, and be speak ofter earth with trusterdiaght,\n",
      "What apperio, seave our took of ese him madiut frold may, my right the selds the prest abry poase wan the resely our care end am this sones oul we friends!\n",
      "\n",
      "An Kings, is now:\n",
      "Where says vire to be armorry,\n",
      "And his now, too, mights sir, stirily from all brous our our him with to Clanty susting firgend,\n",
      "Words, at will this good should heir sgrewh the pray of sidier,\n",
      "And but a kerises with as tis not to book the beart.\n",
      "\n",
      "SLOXDCAD:\n",
      "Will retturrign, we'll him.\n",
      "\n",
      "Sor Servind:\n",
      "Were a provis.\n",
      "\n",
      "HENROR CINIO:\n",
      "A be the strage cold.\n",
      "\n",
      "COMILLO:\n",
      "Now we the vay! Acth's by be were clipusself\n",
      "My plops subs plin were the bown\n",
      "He shoughtion thy shour stors, worl\n"
     ]
    }
   ],
   "source": [
    "test_text = test('Th', 1000, 0.8)\n",
    "print(test_text)"
   ]
  },
  {
   "cell_type": "code",
   "execution_count": 18,
   "metadata": {},
   "outputs": [
    {
     "name": "stdout",
     "output_type": "stream",
     "text": [
      "Whould my must must it to fears!\n",
      "\n",
      "KING EDWARD VI:\n",
      "Stay, and for to's not say in the greatard\n",
      "Say, forluning the crown, will his not mad, the sturs, let on is and brromout and must rersold bist house?\n",
      "Doth, fore: and to my loves.\n",
      "\n",
      "LADY VINV:\n",
      "Wimbuse be shall my king a their will father.\n",
      "\n",
      "ANTONS OLIO:\n",
      "Rostss my sooursing for me the glam,\n",
      "The'll which trustrends his fried my curve!\n",
      "\n",
      "KING EDWARDIZABETI:\n",
      "O, mer, thy parkay your not feariops\n",
      "The four myself.\n",
      "\n",
      "KATHARDIO:\n",
      "Lood for shir, the words, as sumble fall well of whill wasture,\n",
      "Sir for Riningmorious it,\n",
      "Seir soppy lim?\n",
      "\n",
      "DUKE ANNE:\n",
      "Not since the pray, the was will more in so what,\n",
      "The restingman will core.\n",
      "\n",
      "Second born: with will pray.\n",
      "\n",
      "RIANIUS:\n",
      "Our, be and in erving thou aredods!\n",
      "\n",
      "GLOUCHARE:\n",
      "O so for of bear my to you taster withought elidge?\n",
      "Prakes fir part my way, sidrame my please sonds,\n",
      "Stand him tone sink his this sit and lantle for that the Marporest our fights.\n",
      "\n",
      "Sechincingnesser, printering sold a seast.\n",
      "\n",
      "KING EDWARD VINGBROKE:\n",
      "Now\n"
     ]
    }
   ],
   "source": [
    "test_text = test('Wh', 1000, 0.8)\n",
    "print(test_text)"
   ]
  }
 ],
 "metadata": {
  "kernelspec": {
   "display_name": "Python 3",
   "language": "python",
   "name": "python3"
  },
  "language_info": {
   "codemirror_mode": {
    "name": "ipython",
    "version": 3
   },
   "file_extension": ".py",
   "mimetype": "text/x-python",
   "name": "python",
   "nbconvert_exporter": "python",
   "pygments_lexer": "ipython3",
   "version": "3.7.6"
  }
 },
 "nbformat": 4,
 "nbformat_minor": 2
}
